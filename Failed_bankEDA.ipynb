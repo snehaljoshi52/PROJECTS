{
 "cells": [
  {
   "cell_type": "code",
   "execution_count": 1,
   "metadata": {
    "id": "A1Vom9qKWD1a"
   },
   "outputs": [],
   "source": [
    "import numpy as np\n",
    "import pandas as pd\n",
    "import matplotlib.pyplot as plt\n",
    "import seaborn as sns"
   ]
  },
  {
   "cell_type": "code",
   "execution_count": 2,
   "metadata": {
    "id": "wTQ4lT0hWs3H"
   },
   "outputs": [],
   "source": [
    "df = pd.read_csv('/content/Failed_Bank_Dataset_2.csv')"
   ]
  },
  {
   "cell_type": "code",
   "execution_count": 3,
   "metadata": {
    "colab": {
     "base_uri": "https://localhost:8080/",
     "height": 206
    },
    "id": "YvRpsXwTWyby",
    "outputId": "4f8a900c-8360-4ab1-be1b-52dd97ec9ef1"
   },
   "outputs": [
    {
     "data": {
      "text/html": [
       "\n",
       "  <div id=\"df-1153264c-cc7e-4219-bbd5-7e55f66bb84b\" class=\"colab-df-container\">\n",
       "    <div>\n",
       "<style scoped>\n",
       "    .dataframe tbody tr th:only-of-type {\n",
       "        vertical-align: middle;\n",
       "    }\n",
       "\n",
       "    .dataframe tbody tr th {\n",
       "        vertical-align: top;\n",
       "    }\n",
       "\n",
       "    .dataframe thead th {\n",
       "        text-align: right;\n",
       "    }\n",
       "</style>\n",
       "<table border=\"1\" class=\"dataframe\">\n",
       "  <thead>\n",
       "    <tr style=\"text-align: right;\">\n",
       "      <th></th>\n",
       "      <th>Bank_Name</th>\n",
       "      <th>City</th>\n",
       "      <th>State</th>\n",
       "      <th>Cert</th>\n",
       "      <th>Acquiring_Institution</th>\n",
       "      <th>Closing_Date</th>\n",
       "      <th>Estimated_Loss</th>\n",
       "      <th>Total_Assets</th>\n",
       "      <th>Total_Deposits</th>\n",
       "    </tr>\n",
       "  </thead>\n",
       "  <tbody>\n",
       "    <tr>\n",
       "      <th>0</th>\n",
       "      <td>First Republic Bank</td>\n",
       "      <td>San Francisco</td>\n",
       "      <td>CA</td>\n",
       "      <td>59017</td>\n",
       "      <td>JPMorgan Chase Bank, N.A.</td>\n",
       "      <td>2023-05-01</td>\n",
       "      <td>NaN</td>\n",
       "      <td>212638872000</td>\n",
       "      <td>176436706000</td>\n",
       "    </tr>\n",
       "    <tr>\n",
       "      <th>1</th>\n",
       "      <td>Signature Bank</td>\n",
       "      <td>New York</td>\n",
       "      <td>NY</td>\n",
       "      <td>57053</td>\n",
       "      <td>Flagstar Bank, N.A.</td>\n",
       "      <td>2023-03-12</td>\n",
       "      <td>2.400000e+09</td>\n",
       "      <td>110363650000</td>\n",
       "      <td>88612911000</td>\n",
       "    </tr>\n",
       "    <tr>\n",
       "      <th>2</th>\n",
       "      <td>Silicon Valley Bank</td>\n",
       "      <td>Santa Clara</td>\n",
       "      <td>CA</td>\n",
       "      <td>24735</td>\n",
       "      <td>First–Citizens Bank &amp; Trust Company</td>\n",
       "      <td>2023-03-10</td>\n",
       "      <td>1.610000e+10</td>\n",
       "      <td>209026000000</td>\n",
       "      <td>175378000000</td>\n",
       "    </tr>\n",
       "    <tr>\n",
       "      <th>3</th>\n",
       "      <td>Almena State Bank</td>\n",
       "      <td>Almena</td>\n",
       "      <td>KS</td>\n",
       "      <td>15426</td>\n",
       "      <td>Equity Bank</td>\n",
       "      <td>2020-10-23</td>\n",
       "      <td>1.633000e+07</td>\n",
       "      <td>65733000</td>\n",
       "      <td>64941000</td>\n",
       "    </tr>\n",
       "    <tr>\n",
       "      <th>4</th>\n",
       "      <td>First City Bank of Florida</td>\n",
       "      <td>Fort Walton Beach</td>\n",
       "      <td>FL</td>\n",
       "      <td>16748</td>\n",
       "      <td>United Fidelity Bank, fsb</td>\n",
       "      <td>2020-10-16</td>\n",
       "      <td>7.247000e+06</td>\n",
       "      <td>136566000</td>\n",
       "      <td>133936000</td>\n",
       "    </tr>\n",
       "  </tbody>\n",
       "</table>\n",
       "</div>\n",
       "    <div class=\"colab-df-buttons\">\n",
       "\n",
       "  <div class=\"colab-df-container\">\n",
       "    <button class=\"colab-df-convert\" onclick=\"convertToInteractive('df-1153264c-cc7e-4219-bbd5-7e55f66bb84b')\"\n",
       "            title=\"Convert this dataframe to an interactive table.\"\n",
       "            style=\"display:none;\">\n",
       "\n",
       "  <svg xmlns=\"http://www.w3.org/2000/svg\" height=\"24px\" viewBox=\"0 -960 960 960\">\n",
       "    <path d=\"M120-120v-720h720v720H120Zm60-500h600v-160H180v160Zm220 220h160v-160H400v160Zm0 220h160v-160H400v160ZM180-400h160v-160H180v160Zm440 0h160v-160H620v160ZM180-180h160v-160H180v160Zm440 0h160v-160H620v160Z\"/>\n",
       "  </svg>\n",
       "    </button>\n",
       "\n",
       "  <style>\n",
       "    .colab-df-container {\n",
       "      display:flex;\n",
       "      gap: 12px;\n",
       "    }\n",
       "\n",
       "    .colab-df-convert {\n",
       "      background-color: #E8F0FE;\n",
       "      border: none;\n",
       "      border-radius: 50%;\n",
       "      cursor: pointer;\n",
       "      display: none;\n",
       "      fill: #1967D2;\n",
       "      height: 32px;\n",
       "      padding: 0 0 0 0;\n",
       "      width: 32px;\n",
       "    }\n",
       "\n",
       "    .colab-df-convert:hover {\n",
       "      background-color: #E2EBFA;\n",
       "      box-shadow: 0px 1px 2px rgba(60, 64, 67, 0.3), 0px 1px 3px 1px rgba(60, 64, 67, 0.15);\n",
       "      fill: #174EA6;\n",
       "    }\n",
       "\n",
       "    .colab-df-buttons div {\n",
       "      margin-bottom: 4px;\n",
       "    }\n",
       "\n",
       "    [theme=dark] .colab-df-convert {\n",
       "      background-color: #3B4455;\n",
       "      fill: #D2E3FC;\n",
       "    }\n",
       "\n",
       "    [theme=dark] .colab-df-convert:hover {\n",
       "      background-color: #434B5C;\n",
       "      box-shadow: 0px 1px 3px 1px rgba(0, 0, 0, 0.15);\n",
       "      filter: drop-shadow(0px 1px 2px rgba(0, 0, 0, 0.3));\n",
       "      fill: #FFFFFF;\n",
       "    }\n",
       "  </style>\n",
       "\n",
       "    <script>\n",
       "      const buttonEl =\n",
       "        document.querySelector('#df-1153264c-cc7e-4219-bbd5-7e55f66bb84b button.colab-df-convert');\n",
       "      buttonEl.style.display =\n",
       "        google.colab.kernel.accessAllowed ? 'block' : 'none';\n",
       "\n",
       "      async function convertToInteractive(key) {\n",
       "        const element = document.querySelector('#df-1153264c-cc7e-4219-bbd5-7e55f66bb84b');\n",
       "        const dataTable =\n",
       "          await google.colab.kernel.invokeFunction('convertToInteractive',\n",
       "                                                    [key], {});\n",
       "        if (!dataTable) return;\n",
       "\n",
       "        const docLinkHtml = 'Like what you see? Visit the ' +\n",
       "          '<a target=\"_blank\" href=https://colab.research.google.com/notebooks/data_table.ipynb>data table notebook</a>'\n",
       "          + ' to learn more about interactive tables.';\n",
       "        element.innerHTML = '';\n",
       "        dataTable['output_type'] = 'display_data';\n",
       "        await google.colab.output.renderOutput(dataTable, element);\n",
       "        const docLink = document.createElement('div');\n",
       "        docLink.innerHTML = docLinkHtml;\n",
       "        element.appendChild(docLink);\n",
       "      }\n",
       "    </script>\n",
       "  </div>\n",
       "\n",
       "\n",
       "<div id=\"df-b2212633-2a10-4c25-bd75-2f18536bc309\">\n",
       "  <button class=\"colab-df-quickchart\" onclick=\"quickchart('df-b2212633-2a10-4c25-bd75-2f18536bc309')\"\n",
       "            title=\"Suggest charts\"\n",
       "            style=\"display:none;\">\n",
       "\n",
       "<svg xmlns=\"http://www.w3.org/2000/svg\" height=\"24px\"viewBox=\"0 0 24 24\"\n",
       "     width=\"24px\">\n",
       "    <g>\n",
       "        <path d=\"M19 3H5c-1.1 0-2 .9-2 2v14c0 1.1.9 2 2 2h14c1.1 0 2-.9 2-2V5c0-1.1-.9-2-2-2zM9 17H7v-7h2v7zm4 0h-2V7h2v10zm4 0h-2v-4h2v4z\"/>\n",
       "    </g>\n",
       "</svg>\n",
       "  </button>\n",
       "\n",
       "<style>\n",
       "  .colab-df-quickchart {\n",
       "      --bg-color: #E8F0FE;\n",
       "      --fill-color: #1967D2;\n",
       "      --hover-bg-color: #E2EBFA;\n",
       "      --hover-fill-color: #174EA6;\n",
       "      --disabled-fill-color: #AAA;\n",
       "      --disabled-bg-color: #DDD;\n",
       "  }\n",
       "\n",
       "  [theme=dark] .colab-df-quickchart {\n",
       "      --bg-color: #3B4455;\n",
       "      --fill-color: #D2E3FC;\n",
       "      --hover-bg-color: #434B5C;\n",
       "      --hover-fill-color: #FFFFFF;\n",
       "      --disabled-bg-color: #3B4455;\n",
       "      --disabled-fill-color: #666;\n",
       "  }\n",
       "\n",
       "  .colab-df-quickchart {\n",
       "    background-color: var(--bg-color);\n",
       "    border: none;\n",
       "    border-radius: 50%;\n",
       "    cursor: pointer;\n",
       "    display: none;\n",
       "    fill: var(--fill-color);\n",
       "    height: 32px;\n",
       "    padding: 0;\n",
       "    width: 32px;\n",
       "  }\n",
       "\n",
       "  .colab-df-quickchart:hover {\n",
       "    background-color: var(--hover-bg-color);\n",
       "    box-shadow: 0 1px 2px rgba(60, 64, 67, 0.3), 0 1px 3px 1px rgba(60, 64, 67, 0.15);\n",
       "    fill: var(--button-hover-fill-color);\n",
       "  }\n",
       "\n",
       "  .colab-df-quickchart-complete:disabled,\n",
       "  .colab-df-quickchart-complete:disabled:hover {\n",
       "    background-color: var(--disabled-bg-color);\n",
       "    fill: var(--disabled-fill-color);\n",
       "    box-shadow: none;\n",
       "  }\n",
       "\n",
       "  .colab-df-spinner {\n",
       "    border: 2px solid var(--fill-color);\n",
       "    border-color: transparent;\n",
       "    border-bottom-color: var(--fill-color);\n",
       "    animation:\n",
       "      spin 1s steps(1) infinite;\n",
       "  }\n",
       "\n",
       "  @keyframes spin {\n",
       "    0% {\n",
       "      border-color: transparent;\n",
       "      border-bottom-color: var(--fill-color);\n",
       "      border-left-color: var(--fill-color);\n",
       "    }\n",
       "    20% {\n",
       "      border-color: transparent;\n",
       "      border-left-color: var(--fill-color);\n",
       "      border-top-color: var(--fill-color);\n",
       "    }\n",
       "    30% {\n",
       "      border-color: transparent;\n",
       "      border-left-color: var(--fill-color);\n",
       "      border-top-color: var(--fill-color);\n",
       "      border-right-color: var(--fill-color);\n",
       "    }\n",
       "    40% {\n",
       "      border-color: transparent;\n",
       "      border-right-color: var(--fill-color);\n",
       "      border-top-color: var(--fill-color);\n",
       "    }\n",
       "    60% {\n",
       "      border-color: transparent;\n",
       "      border-right-color: var(--fill-color);\n",
       "    }\n",
       "    80% {\n",
       "      border-color: transparent;\n",
       "      border-right-color: var(--fill-color);\n",
       "      border-bottom-color: var(--fill-color);\n",
       "    }\n",
       "    90% {\n",
       "      border-color: transparent;\n",
       "      border-bottom-color: var(--fill-color);\n",
       "    }\n",
       "  }\n",
       "</style>\n",
       "\n",
       "  <script>\n",
       "    async function quickchart(key) {\n",
       "      const quickchartButtonEl =\n",
       "        document.querySelector('#' + key + ' button');\n",
       "      quickchartButtonEl.disabled = true;  // To prevent multiple clicks.\n",
       "      quickchartButtonEl.classList.add('colab-df-spinner');\n",
       "      try {\n",
       "        const charts = await google.colab.kernel.invokeFunction(\n",
       "            'suggestCharts', [key], {});\n",
       "      } catch (error) {\n",
       "        console.error('Error during call to suggestCharts:', error);\n",
       "      }\n",
       "      quickchartButtonEl.classList.remove('colab-df-spinner');\n",
       "      quickchartButtonEl.classList.add('colab-df-quickchart-complete');\n",
       "    }\n",
       "    (() => {\n",
       "      let quickchartButtonEl =\n",
       "        document.querySelector('#df-b2212633-2a10-4c25-bd75-2f18536bc309 button');\n",
       "      quickchartButtonEl.style.display =\n",
       "        google.colab.kernel.accessAllowed ? 'block' : 'none';\n",
       "    })();\n",
       "  </script>\n",
       "</div>\n",
       "\n",
       "    </div>\n",
       "  </div>\n"
      ],
      "text/plain": [
       "                    Bank_Name               City State   Cert  \\\n",
       "0         First Republic Bank      San Francisco    CA  59017   \n",
       "1              Signature Bank           New York    NY  57053   \n",
       "2         Silicon Valley Bank        Santa Clara    CA  24735   \n",
       "3           Almena State Bank             Almena    KS  15426   \n",
       "4  First City Bank of Florida  Fort Walton Beach    FL  16748   \n",
       "\n",
       "                 Acquiring_Institution Closing_Date  Estimated_Loss  \\\n",
       "0            JPMorgan Chase Bank, N.A.   2023-05-01             NaN   \n",
       "1                  Flagstar Bank, N.A.   2023-03-12    2.400000e+09   \n",
       "2  First–Citizens Bank & Trust Company   2023-03-10    1.610000e+10   \n",
       "3                          Equity Bank   2020-10-23    1.633000e+07   \n",
       "4            United Fidelity Bank, fsb   2020-10-16    7.247000e+06   \n",
       "\n",
       "   Total_Assets  Total_Deposits  \n",
       "0  212638872000    176436706000  \n",
       "1  110363650000     88612911000  \n",
       "2  209026000000    175378000000  \n",
       "3      65733000        64941000  \n",
       "4     136566000       133936000  "
      ]
     },
     "execution_count": 3,
     "metadata": {},
     "output_type": "execute_result"
    }
   ],
   "source": [
    "df.head()"
   ]
  },
  {
   "cell_type": "code",
   "execution_count": 4,
   "metadata": {
    "colab": {
     "base_uri": "https://localhost:8080/"
    },
    "id": "fukRUZ5mW2rY",
    "outputId": "98c65ccb-d167-4439-94b9-cdb33a381ff4"
   },
   "outputs": [
    {
     "data": {
      "text/plain": [
       "(566, 9)"
      ]
     },
     "execution_count": 4,
     "metadata": {},
     "output_type": "execute_result"
    }
   ],
   "source": [
    "df.shape"
   ]
  },
  {
   "cell_type": "code",
   "execution_count": 5,
   "metadata": {
    "colab": {
     "base_uri": "https://localhost:8080/"
    },
    "id": "bPAjGh09aujq",
    "outputId": "9448cef0-d6ae-45d8-d698-9646cb447212"
   },
   "outputs": [
    {
     "data": {
      "text/plain": [
       "Bank_Name                0\n",
       "City                     0\n",
       "State                    0\n",
       "Cert                     0\n",
       "Acquiring_Institution    0\n",
       "Closing_Date             0\n",
       "Estimated_Loss           2\n",
       "Total_Assets             0\n",
       "Total_Deposits           0\n",
       "dtype: int64"
      ]
     },
     "execution_count": 5,
     "metadata": {},
     "output_type": "execute_result"
    }
   ],
   "source": [
    "df.isnull().sum()"
   ]
  },
  {
   "cell_type": "code",
   "execution_count": 6,
   "metadata": {
    "id": "5Q-lnlfsb5tM"
   },
   "outputs": [],
   "source": [
    "\n",
    "\n",
    "df['Estimated_Loss'].fillna(df['Estimated_Loss'].mean(), inplace=True)\n"
   ]
  },
  {
   "cell_type": "code",
   "execution_count": 7,
   "metadata": {
    "colab": {
     "base_uri": "https://localhost:8080/"
    },
    "id": "p-XCCI1VcU9u",
    "outputId": "0f9d902a-a5eb-4176-8cd9-a7274ae63fc6"
   },
   "outputs": [
    {
     "data": {
      "text/plain": [
       "Bank_Name                0\n",
       "City                     0\n",
       "State                    0\n",
       "Cert                     0\n",
       "Acquiring_Institution    0\n",
       "Closing_Date             0\n",
       "Estimated_Loss           0\n",
       "Total_Assets             0\n",
       "Total_Deposits           0\n",
       "dtype: int64"
      ]
     },
     "execution_count": 7,
     "metadata": {},
     "output_type": "execute_result"
    }
   ],
   "source": [
    "df.isnull().sum()"
   ]
  },
  {
   "cell_type": "code",
   "execution_count": 8,
   "metadata": {
    "colab": {
     "base_uri": "https://localhost:8080/"
    },
    "id": "jlzDVMgOW8iO",
    "outputId": "76fb7c63-235f-4e7b-b4d9-92be84c77e66"
   },
   "outputs": [
    {
     "name": "stdout",
     "output_type": "stream",
     "text": [
      "<class 'pandas.core.frame.DataFrame'>\n",
      "RangeIndex: 566 entries, 0 to 565\n",
      "Data columns (total 9 columns):\n",
      " #   Column                 Non-Null Count  Dtype  \n",
      "---  ------                 --------------  -----  \n",
      " 0   Bank_Name              566 non-null    object \n",
      " 1   City                   566 non-null    object \n",
      " 2   State                  566 non-null    object \n",
      " 3   Cert                   566 non-null    int64  \n",
      " 4   Acquiring_Institution  566 non-null    object \n",
      " 5   Closing_Date           566 non-null    object \n",
      " 6   Estimated_Loss         566 non-null    float64\n",
      " 7   Total_Assets           566 non-null    int64  \n",
      " 8   Total_Deposits         566 non-null    int64  \n",
      "dtypes: float64(1), int64(3), object(5)\n",
      "memory usage: 39.9+ KB\n"
     ]
    }
   ],
   "source": [
    "df.info()"
   ]
  },
  {
   "cell_type": "code",
   "execution_count": 9,
   "metadata": {
    "colab": {
     "base_uri": "https://localhost:8080/"
    },
    "id": "BkzNE5GNYMAx",
    "outputId": "55fd9a44-7b0c-41c9-9f60-6898a0bdbfb0"
   },
   "outputs": [
    {
     "data": {
      "text/plain": [
       "object     5\n",
       "int64      3\n",
       "float64    1\n",
       "dtype: int64"
      ]
     },
     "execution_count": 9,
     "metadata": {},
     "output_type": "execute_result"
    }
   ],
   "source": [
    "df.dtypes.value_counts()\n"
   ]
  },
  {
   "cell_type": "markdown",
   "metadata": {
    "id": "CpqYTs2_4TKP"
   },
   "source": [
    "#Number of failed bank per State"
   ]
  },
  {
   "cell_type": "code",
   "execution_count": 10,
   "metadata": {
    "colab": {
     "base_uri": "https://localhost:8080/"
    },
    "id": "9fkqJG_mm_cG",
    "outputId": "52880f04-f95f-4225-fa48-cd27c19a1666"
   },
   "outputs": [
    {
     "data": {
      "text/plain": [
       "GA    93\n",
       "FL    76\n",
       "IL    69\n",
       "CA    43\n",
       "MN    23\n",
       "WA    19\n",
       "MO    16\n",
       "AZ    16\n",
       "MI    14\n",
       "TX    13\n",
       "NV    12\n",
       "KS    11\n",
       "WI    11\n",
       "PA    10\n",
       "SC    10\n",
       "CO    10\n",
       "MD    10\n",
       "OH     9\n",
       "UT     8\n",
       "NJ     8\n",
       "TN     7\n",
       "OK     7\n",
       "AL     7\n",
       "NC     7\n",
       "NY     6\n",
       "OR     6\n",
       "VA     5\n",
       "PR     4\n",
       "LA     4\n",
       "AR     4\n",
       "NE     4\n",
       "NM     3\n",
       "IN     3\n",
       "KY     3\n",
       "WV     2\n",
       "IA     2\n",
       "MS     2\n",
       "CT     2\n",
       "ID     2\n",
       "MA     1\n",
       "SD     1\n",
       "WY     1\n",
       "NH     1\n",
       "HI     1\n",
       "Name: State, dtype: int64"
      ]
     },
     "execution_count": 10,
     "metadata": {},
     "output_type": "execute_result"
    }
   ],
   "source": [
    "\n",
    "\n",
    "df['State'].value_counts()\n"
   ]
  },
  {
   "cell_type": "code",
   "execution_count": 27,
   "metadata": {
    "colab": {
     "base_uri": "https://localhost:8080/",
     "height": 546
    },
    "id": "cEMrwbfFmTos",
    "outputId": "532a02ab-a8f8-4633-9403-ba9e536d546f"
   },
   "outputs": [
    {
     "name": "stderr",
     "output_type": "stream",
     "text": [
      "<ipython-input-27-796eb05c8e69>:2: FutureWarning: \n",
      "\n",
      "Passing `palette` without assigning `hue` is deprecated and will be removed in v0.14.0. Assign the `x` variable to `hue` and set `legend=False` for the same effect.\n",
      "\n",
      "  sns.countplot(x=\"State\", data=df, palette=\"hls\")\n"
     ]
    },
    {
     "data": {
      "image/png": "[encoded data removed]",
      "text/plain": [
       "<Figure size 640x480 with 1 Axes>"
      ]
     },
     "metadata": {},
     "output_type": "display_data"
    }
   ],
   "source": [
    "\n",
    "\n",
    "import matplotlib.pyplot as plt\n",
    "sns.countplot(x=\"State\", data=df, palette=\"hls\")\n",
    "plt.xticks(rotation=90)\n",
    "plt.show()\n"
   ]
  },
  {
   "cell_type": "markdown",
   "metadata": {
    "id": "lwU5e5Z55QqH"
   },
   "source": [
    "#Acquiring Institution"
   ]
  },
  {
   "cell_type": "code",
   "execution_count": 46,
   "metadata": {
    "colab": {
     "base_uri": "https://localhost:8080/"
    },
    "id": "6csOKzIryOpL",
    "outputId": "92ff17e1-2f5e-43e4-b5cb-a89ec3e8f4b9"
   },
   "outputs": [
    {
     "name": "stdout",
     "output_type": "stream",
     "text": [
      "Number of unique Acquiring_Institution: 300\n"
     ]
    }
   ],
   "source": [
    "# prompt: show the count of unique Acquiring_Institution\n",
    "\n",
    "acquiring_institutions = df['Acquiring_Institution'].value_counts()\n",
    "unique_acquiring_institutions = df['Acquiring_Institution'].nunique()\n",
    "print(f\"Number of unique Acquiring_Institution: {unique_acquiring_institutions}\")\n",
    "\n"
   ]
  },
  {
   "cell_type": "markdown",
   "metadata": {
    "id": "fN7uHXf25ZxU"
   },
   "source": [
    "#Number of failed bank per institution\n"
   ]
  },
  {
   "cell_type": "code",
   "execution_count": 16,
   "metadata": {
    "colab": {
     "base_uri": "https://localhost:8080/"
    },
    "id": "RQVmmvouq_K_",
    "outputId": "deb36b7a-7e9c-42ce-bad4-a49e0c19bd27"
   },
   "outputs": [
    {
     "name": "stdout",
     "output_type": "stream",
     "text": [
      "No Acquirer: 31\n",
      "State Bank and Trust Company: 12\n",
      "First-Citizens Bank & Trust Company: 11\n",
      "Ameris Bank: 10\n",
      "U.S. Bank N.A.: 9\n",
      "Community & Southern Bank: 8\n",
      "Bank of the Ozarks: 7\n",
      "Stearns Bank, N.A.: 7\n",
      "Centennial Bank: 7\n",
      "Republic Bank of Chicago: 6\n",
      "Central Bank: 6\n",
      "CenterState Bank of Florida, N.A.: 6\n",
      "MB Financial Bank, N.A.: 6\n",
      "Premier American Bank, N.A.: 5\n",
      "CertusBank, National Association: 5\n",
      "Columbia State Bank: 5\n",
      "Sunwest Bank: 5\n",
      "Great Southern Bank: 5\n",
      "U.S. Bank, N.A.: 5\n",
      "United Fidelity Bank, fsb: 5\n",
      "Umpqua Bank: 4\n",
      "Simmons First National Bank: 4\n",
      "First Financial Bank, N.A.: 4\n",
      "Northbrook Bank & Trust Company: 4\n",
      "IBERIABANK: 4\n",
      "Hamilton State Bank: 4\n",
      "Stonegate Bank: 4\n",
      "First Midwest Bank: 4\n",
      "City National Bank: 4\n",
      "First Federal Bank of Florida: 4\n",
      "Heartland Bank and Trust Company: 4\n",
      "United Bank: 4\n",
      "CharterBank: 3\n",
      "Liberty Bank and Trust Company: 3\n",
      "Bank of North Carolina: 3\n",
      "Capital Bank, N.A.: 3\n",
      "Fidelity Bank: 3\n",
      "Heritage Bank: 3\n",
      "First Citizens Bank and Trust Company, Inc.: 3\n",
      "Florida Community Bank, a division of Premier American Bank, N.A.: 3\n",
      "State Bank of Texas: 3\n",
      "TD Bank, N.A.: 3\n",
      "SCBT National Association: 3\n",
      "OneWest Bank, FSB: 3\n",
      "NAFH National Bank: 3\n",
      "Enterprise Bank & Trust: 3\n",
      "Pacific Western Bank: 3\n",
      "First California Bank: 3\n",
      "Cache Valley Bank: 3\n",
      "First Michigan Bank: 3\n",
      "Mutual of Omaha Bank: 3\n",
      "Heritage Bank of the South: 3\n",
      "1st United Bank: 3\n",
      "EverBank: 3\n",
      "International Bank of Chicago: 2\n",
      "Georgia Commerce Bank: 2\n",
      "Bank Midwest, N.A.: 2\n",
      "California Bank & Trust: 2\n",
      "Herring Bank: 2\n",
      "Tri Counties Bank: 2\n",
      "Branch Banking & Trust Company, (BB&T): 2\n",
      "MidFirst Bank: 2\n",
      "East West Bank: 2\n",
      "Westamerica Bank: 2\n",
      "First American Bank and Trust Company: 2\n",
      "First American Bank: 2\n",
      "First Bank: 2\n",
      "New York Community Bank: 2\n",
      "Whidbey Island Bank: 2\n",
      "Midland States Bank: 2\n",
      "Valley National Bank: 2\n",
      "Manufacturers and Traders Trust Company (M&T Bank): 2\n",
      "Level One Bank: 2\n",
      "First Southern Bank: 2\n",
      "Renasant Bank: 2\n",
      "Union Bank, N.A.: 2\n",
      "Beal Bank: 2\n",
      "Rabobank, N.A.: 2\n",
      "The Huntington National Bank: 2\n",
      "Citizens South Bank: 2\n",
      "Alerus Financial, N.A.: 2\n",
      "Home Federal Bank: 2\n",
      "American Momentum Bank: 2\n",
      "Seaway Bank and Trust Company: 2\n",
      "FirstMerit Bank, N.A.: 2\n",
      "First State Bank: 2\n",
      "Plaza Bank: 2\n",
      "Banco Popular de Puerto Rico: 2\n",
      "Metcalf Bank: 2\n",
      "Bank of Essex: 2\n",
      "Nevada State Bank: 2\n",
      "Regions Bank: 2\n",
      "Republic Bank & Trust Company: 2\n",
      "North Shore Bank, FSB: 2\n",
      "Bay Bank, FSB: 2\n",
      "First NBC Bank: 2\n",
      "Stearns Bank N.A.: 2\n",
      "Pacific Premier Bank: 2\n",
      "Sonabank: 2\n",
      "The National Bank and Trust Company: 1\n",
      "Northern State Bank: 1\n",
      "Hancock Bank of Florida: 1\n",
      "Home Bank: 1\n",
      "State Bank of Lincoln: 1\n",
      "Union State Bank: 1\n",
      "Far West Bank: 1\n",
      "Heritage Bank of Nevada: 1\n",
      "Allegheny Valley Bank of Pittsburgh: 1\n",
      "ING DIRECT: 1\n",
      "The Citizens Banking Company: 1\n",
      "Community National Bank: 1\n",
      "Community Development Bank, FSB: 1\n",
      "United Valley Bank: 1\n",
      "Security Bank: 1\n",
      "Sunflower Bank, N.A.: 1\n",
      "Charter Bank: 1\n",
      "Bank of Upson: 1\n",
      "The Park Bank: 1\n",
      "First Citizens Bank: 1\n",
      "Wheaton Bank & Trust: 1\n",
      "PrinsBank: 1\n",
      "Banterra Bank of Marion: 1\n",
      "Community First Bank: 1\n",
      "BankLiberty: 1\n",
      "Southern New Hampshire Bank & Trust: 1\n",
      "North Valley Bank: 1\n",
      "Superior Federal, FSB: 1\n",
      "Scotiabank de Puerto Rico: 1\n",
      "Oriental Bank and Trust: 1\n",
      "Delta Trust & Bank: 1\n",
      "Israel Discount Bank of New York: 1\n",
      "Earthstar Bank: 1\n",
      "The Security State Bank of Pecos: 1\n",
      "Harris N.A.: 1\n",
      "Center Bank: 1\n",
      "The State Bank & Trust Company: 1\n",
      "Bank Leumi USA: 1\n",
      "Hudson United Bank: 1\n",
      "People's United Bank: 1\n",
      "Chicago Community Bank: 1\n",
      "Sabine State Bank & Trust: 1\n",
      "First State Bank of St. Joseph: 1\n",
      "Pulaski Bank and Trust Company: 1\n",
      "Hancock Bank: 1\n",
      "Washington Federal Savings and Loan Association: 1\n",
      "Crown Bank: 1\n",
      "Great American Bank: 1\n",
      "First Federal Savings and Loan Association: 1\n",
      "BBVA Compass: 1\n",
      "Bank of North Georgia: 1\n",
      "North Jersey Community Bank: 1\n",
      "PNC Bank, N.A.: 1\n",
      "Kitsap Bank: 1\n",
      "BankUnited: 1\n",
      "United Central Bank: 1\n",
      "Morton Community Bank: 1\n",
      "First International Bank and Trust: 1\n",
      "Evans Bank, N.A.: 1\n",
      "Bank of Kansas: 1\n",
      "Commerce Bank of Arizona: 1\n",
      "Central Bank & Trust: 1\n",
      "United Community Bank: 1\n",
      "The PrivateBank and Trust Company: 1\n",
      "Galena State Bank and Trust Company: 1\n",
      "The Harvard State Bank: 1\n",
      "Wilshire State Bank: 1\n",
      "Northeast Georgia Bank: 1\n",
      "CorTrust Bank N.A.: 1\n",
      "Bank of Nevada: 1\n",
      "Citizens Bank: 1\n",
      "SunTrust Bank: 1\n",
      "Citizens Bank & Trust: 1\n",
      "The Citizens Savings Bank ********** Pioneer Community Bank, Inc.: 1\n",
      "The First National Bank of Beardstown: 1\n",
      "The Independent BankersBank (TIB): 1\n",
      "JP Morgan Chase Bank: 1\n",
      "Arvest Bank: 1\n",
      "Monroe Bank & Trust: 1\n",
      "National Bank: 1\n",
      "Central Bank of Kansas City: 1\n",
      "Fifth Third Bank: 1\n",
      "Prosperity Bank: 1\n",
      "The Pecos County State Bank: 1\n",
      "Tri City National Bank: 1\n",
      "Washington Trust Bank of Spokane: 1\n",
      "Citizens Business Bank: 1\n",
      "The Carlinville National Bank: 1\n",
      "Legacy Bank: 1\n",
      "TIB Bank: 1\n",
      "JPMorgan Chase Bank, N.A.: 1\n",
      "Peoples Bank of East Tennessee: 1\n",
      "Bank of Ann Arbor: 1\n",
      "Bank of Sullivan: 1\n",
      "CB&S Bank, Inc.: 1\n",
      "Nicolet National Bank: 1\n",
      "C1 Bank: 1\n",
      "First Tennessee Bank, National Association: 1\n",
      "Western State Bank: 1\n",
      "Synovus Bank: 1\n",
      "FirstAtlantic Bank: 1\n",
      "Your Community Bank: 1\n",
      "First Scottsdale Bank, National Association: 1\n",
      "HeritageBank of the South: 1\n",
      "First Minnesota Bank: 1\n",
      "SmartBank: 1\n",
      "Metro City Bank: 1\n",
      "Old Plank Trail Community Bank, National Association: 1\n",
      "First National Bank of the Gulf Coast: 1\n",
      "Hinsdale Bank & Trust Company: 1\n",
      "Regional Missouri Bank: 1\n",
      "Harbor Community Bank: 1\n",
      "Clayton Bank and Trust: 1\n",
      "First Community Bank: 1\n",
      "F & M Bank: 1\n",
      "Southern States Bank: 1\n",
      "Banesco USA: 1\n",
      "First Federal Bank: 1\n",
      "First Fidelity Bank, National Association: 1\n",
      "PlainsCapital Bank: 1\n",
      "Spirit of Texas Bank, SSB: 1\n",
      "BancFirst: 1\n",
      "First–Citizens Bank & Trust Company: 1\n",
      "Equity Bank: 1\n",
      "MVB Bank, Inc.: 1\n",
      "Farmers and Merchants Bank: 1\n",
      "Industrial Bank: 1\n",
      "Kentucky Farmers Bank Corporation: 1\n",
      "Buckeye State Bank: 1\n",
      "Legend Bank, N. A.: 1\n",
      "Royal Savings Bank: 1\n",
      "Conway Bank: 1\n",
      "Whitney Bank: 1\n",
      "Today's Bank: 1\n",
      "The Bank of Fayette County: 1\n",
      "Twin City Bank: 1\n",
      "BankVista: 1\n",
      "Bank of Southern California, N.A.: 1\n",
      "Howard Bank: 1\n",
      "Providence Bank, LLC: 1\n",
      "Alva State Bank & Trust Company: 1\n",
      "Landmark Bank, National Association: 1\n",
      "Palmetto State Bank: 1\n",
      "First Choice Bank: 1\n",
      "WashingtonFirst Bank: 1\n",
      "Alma Bank: 1\n",
      "Barrington Bank & Trust Company, National Association: 1\n",
      "Coulee Bank: 1\n",
      "Customers Bank: 1\n",
      "Southern Bank: 1\n",
      "Flagstar Bank, N.A.: 1\n",
      "Farmers & Merchants Savings Bank: 1\n",
      "Polonia Bank: 1\n",
      "VIST Bank: 1\n",
      "Grandpoint Bank: 1\n",
      "Bay Cities Bank: 1\n",
      "Morris Bank: 1\n",
      "Hillcrest Bank, N.A.: 1\n",
      "Providence Bank: 1\n",
      "GBC International Bank: 1\n",
      "Foundation Bank: 1\n",
      "First Merchants Bank, National Association: 1\n",
      "Urban Partnership Bank: 1\n",
      "River Community Bank, N.A.: 1\n",
      "The Bennington State Bank: 1\n",
      "Roundbank: 1\n",
      "South Valley Bank & Trust: 1\n",
      "Commercial Bank: 1\n",
      "New Century Bank: 1\n",
      "RCB Bank: 1\n",
      "The Savannah Bank, N.A.: 1\n",
      "The Jefferson Bank: 1\n",
      "Great Western Bank: 1\n",
      "McFarland State Bank: 1\n",
      "Bank 7: 1\n",
      "BankSouth: 1\n",
      "Royal Bank: 1\n",
      "First Resource Bank: 1\n",
      "Washington Federal: 1\n",
      "Summit Bank: 1\n",
      "Grinnell State Bank: 1\n",
      "Century Bank of Georgia: 1\n",
      "Premier Bank: 1\n",
      "Blackhawk Bank & Trust: 1\n",
      "Northfield Bank: 1\n",
      "American First National Bank: 1\n",
      "Southern Bank and Trust Company: 1\n",
      "Sabadell United Bank, N.A.: 1\n",
      "Inland Bank & Trust: 1\n",
      "Old National Bank: 1\n",
      "Xenith Bank: 1\n",
      "The Foothills Bank: 1\n",
      "Points West Community Bank: 1\n",
      "Talmer Bank & Trust: 1\n",
      "Superior Bank, National Association: 1\n",
      "AloStar Bank of Commerce: 1\n",
      "Trustmark National Bank: 1\n",
      "Advantage National Bank Group: 1\n",
      "The Pauls Valley National Bank: 1\n",
      "Bank of Marin: 1\n",
      "Bank of the Orient: 1\n"
     ]
    }
   ],
   "source": [
    "\n",
    "\n",
    "acquiring_institutions = df['Acquiring_Institution'].value_counts()\n",
    "for name, count in acquiring_institutions.items():\n",
    "  print(f\"{name}: {count}\")\n"
   ]
  },
  {
   "cell_type": "markdown",
   "metadata": {
    "id": "Ek_wSmrj5lHa"
   },
   "source": [
    "#Number of failed banks per year"
   ]
  },
  {
   "cell_type": "code",
   "execution_count": 18,
   "metadata": {
    "colab": {
     "base_uri": "https://localhost:8080/"
    },
    "id": "4zUDlELxaBb1",
    "outputId": "58861d99-1835-42f9-effd-9600b51c230e"
   },
   "outputs": [
    {
     "name": "stdout",
     "output_type": "stream",
     "text": [
      "Closing_Year\n",
      "2000      2\n",
      "2001      4\n",
      "2002     11\n",
      "2003      3\n",
      "2004      4\n",
      "2007      3\n",
      "2008     25\n",
      "2009    140\n",
      "2010    157\n",
      "2011     92\n",
      "2012     51\n",
      "2013     24\n",
      "2014     18\n",
      "2015      8\n",
      "2016      5\n",
      "2017      8\n",
      "2019      4\n",
      "2020      4\n",
      "2023      3\n",
      "Name: Bank_Name, dtype: int64\n"
     ]
    }
   ],
   "source": [
    "# Extract year from Closing_Date column\n",
    "df['Closing_Year'] = pd.to_datetime(df['Closing_Date']).dt.year\n",
    "\n",
    "# Group data by Closing_Year and count number of banks failed\n",
    "failed_banks_per_year = df.groupby('Closing_Year')['Bank_Name'].count()\n",
    "\n",
    "# Print the result\n",
    "print(failed_banks_per_year)"
   ]
  },
  {
   "cell_type": "code",
   "execution_count": 19,
   "metadata": {
    "colab": {
     "base_uri": "https://localhost:8080/",
     "height": 493
    },
    "id": "p3rWXNjqaWZW",
    "outputId": "5cd3606e-153f-447b-dd28-085e9a011c2f"
   },
   "outputs": [
    {
     "data": {
      "image/png": "[encoded data removed]",
      "text/plain": [
       "<Figure size 640x480 with 1 Axes>"
      ]
     },
     "metadata": {},
     "output_type": "display_data"
    }
   ],
   "source": [
    "\n",
    "\n",
    "\n",
    "\n",
    "# Plot the number of failed banks per year\n",
    "failed_banks_per_year.plot(kind='bar')\n",
    "\n",
    "# Add labels and title\n",
    "plt.xlabel('Year')\n",
    "plt.ylabel('Number of Failed Banks')\n",
    "plt.title('Number of Failed Banks per Year')\n",
    "\n",
    "# Rotate x-axis labels for better readability\n",
    "plt.xticks(rotation=45)\n",
    "\n",
    "# Show the plot\n",
    "plt.show()\n"
   ]
  },
  {
   "cell_type": "markdown",
   "metadata": {
    "id": "g3zdCuJx520S"
   },
   "source": [
    "#Exploring the categorical features"
   ]
  },
  {
   "cell_type": "code",
   "execution_count": 35,
   "metadata": {
    "colab": {
     "base_uri": "https://localhost:8080/"
    },
    "id": "0JWVTEKlv2Ut",
    "outputId": "addcf127-7080-48e6-ff14-b38369057d03"
   },
   "outputs": [
    {
     "data": {
      "text/plain": [
       "['Bank_Name', 'City', 'State', 'Acquiring_Institution', 'Closing_Date']"
      ]
     },
     "execution_count": 35,
     "metadata": {},
     "output_type": "execute_result"
    }
   ],
   "source": [
    "\n",
    "categorical_features=[feature for feature in df.columns if (df[feature].dtypes=='O')]\n",
    "categorical_features"
   ]
  },
  {
   "cell_type": "code",
   "execution_count": 38,
   "metadata": {
    "colab": {
     "base_uri": "https://localhost:8080/"
    },
    "id": "Ac0i-YYMy5pn",
    "outputId": "88ff962e-645d-4227-dd49-f8b88330ecb1"
   },
   "outputs": [
    {
     "name": "stdout",
     "output_type": "stream",
     "text": [
      "The feature is Bank_Name and number of categories are 548\n",
      "The feature is City and number of categories are 434\n",
      "The feature is State and number of categories are 44\n",
      "The feature is Acquiring_Institution and number of categories are 300\n",
      "The feature is Closing_Date and number of categories are 261\n"
     ]
    }
   ],
   "source": [
    "for feature in categorical_features:\n",
    "    print('The feature is {} and number of categories are {}'.format(feature,len(df[feature].unique())))"
   ]
  },
  {
   "cell_type": "markdown",
   "metadata": {
    "id": "P3e8Q9i96BlE"
   },
   "source": [
    "#Exploring the Numerical Feature"
   ]
  },
  {
   "cell_type": "code",
   "execution_count": 39,
   "metadata": {
    "colab": {
     "base_uri": "https://localhost:8080/",
     "height": 223
    },
    "id": "2RCVzlCj0Vg7",
    "outputId": "e88c4915-89b3-445d-a76d-8b88c2bfabd3"
   },
   "outputs": [
    {
     "name": "stdout",
     "output_type": "stream",
     "text": [
      "Number of numerical variables:  5\n"
     ]
    },
    {
     "data": {
      "text/html": [
       "\n",
       "  <div id=\"df-397c7a47-0455-4817-87dd-2f5be0053e32\" class=\"colab-df-container\">\n",
       "    <div>\n",
       "<style scoped>\n",
       "    .dataframe tbody tr th:only-of-type {\n",
       "        vertical-align: middle;\n",
       "    }\n",
       "\n",
       "    .dataframe tbody tr th {\n",
       "        vertical-align: top;\n",
       "    }\n",
       "\n",
       "    .dataframe thead th {\n",
       "        text-align: right;\n",
       "    }\n",
       "</style>\n",
       "<table border=\"1\" class=\"dataframe\">\n",
       "  <thead>\n",
       "    <tr style=\"text-align: right;\">\n",
       "      <th></th>\n",
       "      <th>Cert</th>\n",
       "      <th>Estimated_Loss</th>\n",
       "      <th>Total_Assets</th>\n",
       "      <th>Total_Deposits</th>\n",
       "      <th>Closing_Year</th>\n",
       "    </tr>\n",
       "  </thead>\n",
       "  <tbody>\n",
       "    <tr>\n",
       "      <th>0</th>\n",
       "      <td>59017</td>\n",
       "      <td>1.620317e+08</td>\n",
       "      <td>212638872000</td>\n",
       "      <td>176436706000</td>\n",
       "      <td>2023</td>\n",
       "    </tr>\n",
       "    <tr>\n",
       "      <th>1</th>\n",
       "      <td>57053</td>\n",
       "      <td>2.400000e+09</td>\n",
       "      <td>110363650000</td>\n",
       "      <td>88612911000</td>\n",
       "      <td>2023</td>\n",
       "    </tr>\n",
       "    <tr>\n",
       "      <th>2</th>\n",
       "      <td>24735</td>\n",
       "      <td>1.610000e+10</td>\n",
       "      <td>209026000000</td>\n",
       "      <td>175378000000</td>\n",
       "      <td>2023</td>\n",
       "    </tr>\n",
       "    <tr>\n",
       "      <th>3</th>\n",
       "      <td>15426</td>\n",
       "      <td>1.633000e+07</td>\n",
       "      <td>65733000</td>\n",
       "      <td>64941000</td>\n",
       "      <td>2020</td>\n",
       "    </tr>\n",
       "    <tr>\n",
       "      <th>4</th>\n",
       "      <td>16748</td>\n",
       "      <td>7.247000e+06</td>\n",
       "      <td>136566000</td>\n",
       "      <td>133936000</td>\n",
       "      <td>2020</td>\n",
       "    </tr>\n",
       "  </tbody>\n",
       "</table>\n",
       "</div>\n",
       "    <div class=\"colab-df-buttons\">\n",
       "\n",
       "  <div class=\"colab-df-container\">\n",
       "    <button class=\"colab-df-convert\" onclick=\"convertToInteractive('df-397c7a47-0455-4817-87dd-2f5be0053e32')\"\n",
       "            title=\"Convert this dataframe to an interactive table.\"\n",
       "            style=\"display:none;\">\n",
       "\n",
       "  <svg xmlns=\"http://www.w3.org/2000/svg\" height=\"24px\" viewBox=\"0 -960 960 960\">\n",
       "    <path d=\"M120-120v-720h720v720H120Zm60-500h600v-160H180v160Zm220 220h160v-160H400v160Zm0 220h160v-160H400v160ZM180-400h160v-160H180v160Zm440 0h160v-160H620v160ZM180-180h160v-160H180v160Zm440 0h160v-160H620v160Z\"/>\n",
       "  </svg>\n",
       "    </button>\n",
       "\n",
       "  <style>\n",
       "    .colab-df-container {\n",
       "      display:flex;\n",
       "      gap: 12px;\n",
       "    }\n",
       "\n",
       "    .colab-df-convert {\n",
       "      background-color: #E8F0FE;\n",
       "      border: none;\n",
       "      border-radius: 50%;\n",
       "      cursor: pointer;\n",
       "      display: none;\n",
       "      fill: #1967D2;\n",
       "      height: 32px;\n",
       "      padding: 0 0 0 0;\n",
       "      width: 32px;\n",
       "    }\n",
       "\n",
       "    .colab-df-convert:hover {\n",
       "      background-color: #E2EBFA;\n",
       "      box-shadow: 0px 1px 2px rgba(60, 64, 67, 0.3), 0px 1px 3px 1px rgba(60, 64, 67, 0.15);\n",
       "      fill: #174EA6;\n",
       "    }\n",
       "\n",
       "    .colab-df-buttons div {\n",
       "      margin-bottom: 4px;\n",
       "    }\n",
       "\n",
       "    [theme=dark] .colab-df-convert {\n",
       "      background-color: #3B4455;\n",
       "      fill: #D2E3FC;\n",
       "    }\n",
       "\n",
       "    [theme=dark] .colab-df-convert:hover {\n",
       "      background-color: #434B5C;\n",
       "      box-shadow: 0px 1px 3px 1px rgba(0, 0, 0, 0.15);\n",
       "      filter: drop-shadow(0px 1px 2px rgba(0, 0, 0, 0.3));\n",
       "      fill: #FFFFFF;\n",
       "    }\n",
       "  </style>\n",
       "\n",
       "    <script>\n",
       "      const buttonEl =\n",
       "        document.querySelector('#df-397c7a47-0455-4817-87dd-2f5be0053e32 button.colab-df-convert');\n",
       "      buttonEl.style.display =\n",
       "        google.colab.kernel.accessAllowed ? 'block' : 'none';\n",
       "\n",
       "      async function convertToInteractive(key) {\n",
       "        const element = document.querySelector('#df-397c7a47-0455-4817-87dd-2f5be0053e32');\n",
       "        const dataTable =\n",
       "          await google.colab.kernel.invokeFunction('convertToInteractive',\n",
       "                                                    [key], {});\n",
       "        if (!dataTable) return;\n",
       "\n",
       "        const docLinkHtml = 'Like what you see? Visit the ' +\n",
       "          '<a target=\"_blank\" href=https://colab.research.google.com/notebooks/data_table.ipynb>data table notebook</a>'\n",
       "          + ' to learn more about interactive tables.';\n",
       "        element.innerHTML = '';\n",
       "        dataTable['output_type'] = 'display_data';\n",
       "        await google.colab.output.renderOutput(dataTable, element);\n",
       "        const docLink = document.createElement('div');\n",
       "        docLink.innerHTML = docLinkHtml;\n",
       "        element.appendChild(docLink);\n",
       "      }\n",
       "    </script>\n",
       "  </div>\n",
       "\n",
       "\n",
       "<div id=\"df-259ff98f-4829-4598-8739-e39a0ccfda2b\">\n",
       "  <button class=\"colab-df-quickchart\" onclick=\"quickchart('df-259ff98f-4829-4598-8739-e39a0ccfda2b')\"\n",
       "            title=\"Suggest charts\"\n",
       "            style=\"display:none;\">\n",
       "\n",
       "<svg xmlns=\"http://www.w3.org/2000/svg\" height=\"24px\"viewBox=\"0 0 24 24\"\n",
       "     width=\"24px\">\n",
       "    <g>\n",
       "        <path d=\"M19 3H5c-1.1 0-2 .9-2 2v14c0 1.1.9 2 2 2h14c1.1 0 2-.9 2-2V5c0-1.1-.9-2-2-2zM9 17H7v-7h2v7zm4 0h-2V7h2v10zm4 0h-2v-4h2v4z\"/>\n",
       "    </g>\n",
       "</svg>\n",
       "  </button>\n",
       "\n",
       "<style>\n",
       "  .colab-df-quickchart {\n",
       "      --bg-color: #E8F0FE;\n",
       "      --fill-color: #1967D2;\n",
       "      --hover-bg-color: #E2EBFA;\n",
       "      --hover-fill-color: #174EA6;\n",
       "      --disabled-fill-color: #AAA;\n",
       "      --disabled-bg-color: #DDD;\n",
       "  }\n",
       "\n",
       "  [theme=dark] .colab-df-quickchart {\n",
       "      --bg-color: #3B4455;\n",
       "      --fill-color: #D2E3FC;\n",
       "      --hover-bg-color: #434B5C;\n",
       "      --hover-fill-color: #FFFFFF;\n",
       "      --disabled-bg-color: #3B4455;\n",
       "      --disabled-fill-color: #666;\n",
       "  }\n",
       "\n",
       "  .colab-df-quickchart {\n",
       "    background-color: var(--bg-color);\n",
       "    border: none;\n",
       "    border-radius: 50%;\n",
       "    cursor: pointer;\n",
       "    display: none;\n",
       "    fill: var(--fill-color);\n",
       "    height: 32px;\n",
       "    padding: 0;\n",
       "    width: 32px;\n",
       "  }\n",
       "\n",
       "  .colab-df-quickchart:hover {\n",
       "    background-color: var(--hover-bg-color);\n",
       "    box-shadow: 0 1px 2px rgba(60, 64, 67, 0.3), 0 1px 3px 1px rgba(60, 64, 67, 0.15);\n",
       "    fill: var(--button-hover-fill-color);\n",
       "  }\n",
       "\n",
       "  .colab-df-quickchart-complete:disabled,\n",
       "  .colab-df-quickchart-complete:disabled:hover {\n",
       "    background-color: var(--disabled-bg-color);\n",
       "    fill: var(--disabled-fill-color);\n",
       "    box-shadow: none;\n",
       "  }\n",
       "\n",
       "  .colab-df-spinner {\n",
       "    border: 2px solid var(--fill-color);\n",
       "    border-color: transparent;\n",
       "    border-bottom-color: var(--fill-color);\n",
       "    animation:\n",
       "      spin 1s steps(1) infinite;\n",
       "  }\n",
       "\n",
       "  @keyframes spin {\n",
       "    0% {\n",
       "      border-color: transparent;\n",
       "      border-bottom-color: var(--fill-color);\n",
       "      border-left-color: var(--fill-color);\n",
       "    }\n",
       "    20% {\n",
       "      border-color: transparent;\n",
       "      border-left-color: var(--fill-color);\n",
       "      border-top-color: var(--fill-color);\n",
       "    }\n",
       "    30% {\n",
       "      border-color: transparent;\n",
       "      border-left-color: var(--fill-color);\n",
       "      border-top-color: var(--fill-color);\n",
       "      border-right-color: var(--fill-color);\n",
       "    }\n",
       "    40% {\n",
       "      border-color: transparent;\n",
       "      border-right-color: var(--fill-color);\n",
       "      border-top-color: var(--fill-color);\n",
       "    }\n",
       "    60% {\n",
       "      border-color: transparent;\n",
       "      border-right-color: var(--fill-color);\n",
       "    }\n",
       "    80% {\n",
       "      border-color: transparent;\n",
       "      border-right-color: var(--fill-color);\n",
       "      border-bottom-color: var(--fill-color);\n",
       "    }\n",
       "    90% {\n",
       "      border-color: transparent;\n",
       "      border-bottom-color: var(--fill-color);\n",
       "    }\n",
       "  }\n",
       "</style>\n",
       "\n",
       "  <script>\n",
       "    async function quickchart(key) {\n",
       "      const quickchartButtonEl =\n",
       "        document.querySelector('#' + key + ' button');\n",
       "      quickchartButtonEl.disabled = true;  // To prevent multiple clicks.\n",
       "      quickchartButtonEl.classList.add('colab-df-spinner');\n",
       "      try {\n",
       "        const charts = await google.colab.kernel.invokeFunction(\n",
       "            'suggestCharts', [key], {});\n",
       "      } catch (error) {\n",
       "        console.error('Error during call to suggestCharts:', error);\n",
       "      }\n",
       "      quickchartButtonEl.classList.remove('colab-df-spinner');\n",
       "      quickchartButtonEl.classList.add('colab-df-quickchart-complete');\n",
       "    }\n",
       "    (() => {\n",
       "      let quickchartButtonEl =\n",
       "        document.querySelector('#df-259ff98f-4829-4598-8739-e39a0ccfda2b button');\n",
       "      quickchartButtonEl.style.display =\n",
       "        google.colab.kernel.accessAllowed ? 'block' : 'none';\n",
       "    })();\n",
       "  </script>\n",
       "</div>\n",
       "\n",
       "    </div>\n",
       "  </div>\n"
      ],
      "text/plain": [
       "    Cert  Estimated_Loss  Total_Assets  Total_Deposits  Closing_Year\n",
       "0  59017    1.620317e+08  212638872000    176436706000          2023\n",
       "1  57053    2.400000e+09  110363650000     88612911000          2023\n",
       "2  24735    1.610000e+10  209026000000    175378000000          2023\n",
       "3  15426    1.633000e+07      65733000        64941000          2020\n",
       "4  16748    7.247000e+06     136566000       133936000          2020"
      ]
     },
     "execution_count": 39,
     "metadata": {},
     "output_type": "execute_result"
    }
   ],
   "source": [
    "\n",
    "\n",
    "numerical_features = [feature for feature in df.columns if (df[feature].dtypes != 'O')]\n",
    "print('Number of numerical variables: ', len(numerical_features))\n",
    "\n",
    "# visualise the numerical variables\n",
    "df[numerical_features].head()"
   ]
  },
  {
   "cell_type": "code",
   "execution_count": 40,
   "metadata": {
    "colab": {
     "base_uri": "https://localhost:8080/"
    },
    "id": "_OmXRjRu1Oma",
    "outputId": "724ba5e9-ceca-45f4-c558-935fb1342cfe"
   },
   "outputs": [
    {
     "name": "stdout",
     "output_type": "stream",
     "text": [
      "Discrete Variables Count: 1\n"
     ]
    }
   ],
   "source": [
    "#Find Discrete Numerical Features\n",
    "discrete_feature=[feature for feature in numerical_features if len(df[feature].unique())<25]\n",
    "print(\"Discrete Variables Count: {}\".format(len(discrete_feature)))"
   ]
  },
  {
   "cell_type": "code",
   "execution_count": 41,
   "metadata": {
    "colab": {
     "base_uri": "https://localhost:8080/"
    },
    "id": "8sNJOHrW1Xtf",
    "outputId": "1e8c36a3-9ea7-4d87-81d4-3d4d9337f822"
   },
   "outputs": [
    {
     "name": "stdout",
     "output_type": "stream",
     "text": [
      "Continuous feature Count 4\n"
     ]
    }
   ],
   "source": [
    "#Find Continous Numerical Features\n",
    "continuous_features=[feature for feature in numerical_features if feature not in discrete_feature+['label']]\n",
    "print(\"Continuous feature Count {}\".format(len(continuous_features)))"
   ]
  },
  {
   "cell_type": "code",
   "execution_count": 42,
   "metadata": {
    "colab": {
     "base_uri": "https://localhost:8080/",
     "height": 1000
    },
    "id": "fiKa2VUN1iDq",
    "outputId": "96855f3d-a680-4684-ea56-3692d1e88693"
   },
   "outputs": [
    {
     "name": "stderr",
     "output_type": "stream",
     "text": [
      "<ipython-input-42-1e178edfb8e8>:7: UserWarning: \n",
      "\n",
      "`distplot` is a deprecated function and will be removed in seaborn v0.14.0.\n",
      "\n",
      "Please adapt your code to use either `displot` (a figure-level function with\n",
      "similar flexibility) or `histplot` (an axes-level function for histograms).\n",
      "\n",
      "For a guide to updating your code to use the new functions, please see\n",
      "https://gist.github.com/mwaskom/de44147ed2974457ad6372750bbe5751\n",
      "\n",
      "  sns.distplot(df[continuous_feature])\n",
      "<ipython-input-42-1e178edfb8e8>:7: UserWarning: \n",
      "\n",
      "`distplot` is a deprecated function and will be removed in seaborn v0.14.0.\n",
      "\n",
      "Please adapt your code to use either `displot` (a figure-level function with\n",
      "similar flexibility) or `histplot` (an axes-level function for histograms).\n",
      "\n",
      "For a guide to updating your code to use the new functions, please see\n",
      "https://gist.github.com/mwaskom/de44147ed2974457ad6372750bbe5751\n",
      "\n",
      "  sns.distplot(df[continuous_feature])\n",
      "<ipython-input-42-1e178edfb8e8>:7: UserWarning: \n",
      "\n",
      "`distplot` is a deprecated function and will be removed in seaborn v0.14.0.\n",
      "\n",
      "Please adapt your code to use either `displot` (a figure-level function with\n",
      "similar flexibility) or `histplot` (an axes-level function for histograms).\n",
      "\n",
      "For a guide to updating your code to use the new functions, please see\n",
      "https://gist.github.com/mwaskom/de44147ed2974457ad6372750bbe5751\n",
      "\n",
      "  sns.distplot(df[continuous_feature])\n",
      "<ipython-input-42-1e178edfb8e8>:7: UserWarning: \n",
      "\n",
      "`distplot` is a deprecated function and will be removed in seaborn v0.14.0.\n",
      "\n",
      "Please adapt your code to use either `displot` (a figure-level function with\n",
      "similar flexibility) or `histplot` (an axes-level function for histograms).\n",
      "\n",
      "For a guide to updating your code to use the new functions, please see\n",
      "https://gist.github.com/mwaskom/de44147ed2974457ad6372750bbe5751\n",
      "\n",
      "  sns.distplot(df[continuous_feature])\n"
     ]
    },
    {
     "data": {
      "image/png": "[encoded data removed]",
      "text/plain": [
       "<Figure size 2000x6000 with 4 Axes>"
      ]
     },
     "metadata": {},
     "output_type": "display_data"
    }
   ],
   "source": [
    "#Distribution of Continous Numerical Features\n",
    "#plot a univariate distribution of continues observations\n",
    "plt.figure(figsize=(20,60), facecolor='white')\n",
    "plotnumber =1\n",
    "for continuous_feature in continuous_features:\n",
    "    ax = plt.subplot(12,3,plotnumber)\n",
    "    sns.distplot(df[continuous_feature])\n",
    "    plt.xlabel(continuous_feature)\n",
    "    plotnumber+=1\n",
    "plt.show()"
   ]
  },
  {
   "cell_type": "code",
   "execution_count": 43,
   "metadata": {
    "colab": {
     "base_uri": "https://localhost:8080/",
     "height": 622
    },
    "id": "gtNJKdGZ1rF4",
    "outputId": "a1e2e69e-8f55-43b0-e344-40bb8a0932b2"
   },
   "outputs": [
    {
     "data": {
      "image/png": "[encoded data removed]",
      "text/plain": [
       "<Figure size 2000x6000 with 5 Axes>"
      ]
     },
     "metadata": {},
     "output_type": "display_data"
    }
   ],
   "source": [
    "#Find Outliers in numerical features\n",
    "#boxplot on numerical features to find outliers\n",
    "plt.figure(figsize=(20,60), facecolor='white')\n",
    "plotnumber =1\n",
    "for numerical_feature in numerical_features:\n",
    "    ax = plt.subplot(12,3,plotnumber)\n",
    "    sns.boxplot(df[numerical_feature])\n",
    "    plt.xlabel(numerical_feature)\n",
    "    plotnumber+=1\n",
    "plt.show()"
   ]
  }
 ],
 "metadata": {
  "colab": {
   "provenance": []
  },
  "kernelspec": {
   "display_name": "Python 3 (ipykernel)",
   "language": "python",
   "name": "python3"
  },
  "language_info": {
   "codemirror_mode": {
    "name": "ipython",
    "version": 3
   },
   "file_extension": ".py",
   "mimetype": "text/x-python",
   "name": "python",
   "nbconvert_exporter": "python",
   "pygments_lexer": "ipython3",
   "version": "3.11.4"
  }
 },
 "nbformat": 4,
 "nbformat_minor": 4
}
